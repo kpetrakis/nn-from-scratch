{
 "cells": [
  {
   "cell_type": "markdown",
   "id": "c016b52e",
   "metadata": {},
   "source": [
    "### Based on: Building makemore - Part 4 - Becoming a Backprop Ninja (https://github.com/karpathy/nn-zero-to-hero)\n",
    "> I implemented all the excerices from  https://www.youtube.com/watch?v=q8SA3rM6ckI. \n",
    "\n",
    "- ###### I fit randomly generated data\n",
    "- ###### I use a slightly different MLP architecture with one output neuron\n",
    "- ###### I use Binary Crossentropy as loss function"
   ]
  },
  {
   "cell_type": "code",
   "execution_count": 1,
   "id": "12de324a",
   "metadata": {},
   "outputs": [],
   "source": [
    "import numpy as np\n",
    "import torch\n",
    "import torch.nn as nn\n",
    "import torch.nn.functional as F\n",
    "import matplotlib.pyplot as plt\n",
    "%matplotlib inline\n",
    "from tqdm import tqdm"
   ]
  },
  {
   "cell_type": "code",
   "execution_count": 2,
   "id": "55974088",
   "metadata": {},
   "outputs": [
    {
     "data": {
      "text/plain": [
       "(torch.Size([1000, 3]), torch.Size([1000]))"
      ]
     },
     "execution_count": 2,
     "metadata": {},
     "output_type": "execute_result"
    }
   ],
   "source": [
    "num_examples = 1000\n",
    "num_features = 3\n",
    "\n",
    "g = torch.Generator().manual_seed(2147483647)\n",
    "xtrain = torch.randn(num_examples,num_features,generator=g) # random data\n",
    "y0 = torch.zeros(int(num_examples/2))\n",
    "y1 = torch.ones(int(num_examples/2))\n",
    "shuffle = torch.randperm(num_examples,generator=g) \n",
    "ytrain = torch.cat((y0,y1),dim=0)[shuffle] # random labels\n",
    "xtrain.shape, ytrain.shape"
   ]
  },
  {
   "cell_type": "code",
   "execution_count": 3,
   "id": "c47e554b",
   "metadata": {},
   "outputs": [
    {
     "data": {
      "text/plain": [
       "(torch.Size([100, 3]), torch.Size([100]))"
      ]
     },
     "execution_count": 3,
     "metadata": {},
     "output_type": "execute_result"
    }
   ],
   "source": [
    "# validation set\n",
    "val_examples = 100\n",
    "\n",
    "g = torch.Generator().manual_seed(0) # diaforetiko seed giana parw diaforetika data\n",
    "xval = torch.randn(val_examples,num_features,generator=g) # random test data\n",
    "\n",
    "val_y0 = torch.zeros(int(val_examples/2))\n",
    "val_y1 = torch.ones(int(val_examples/2))\n",
    "shuffle = torch.randperm(val_examples,generator=g) \n",
    "yval = torch.cat((val_y0,val_y1),dim=0)[shuffle] # random labels \n",
    "xval.shape, yval.shape"
   ]
  },
  {
   "cell_type": "code",
   "execution_count": 4,
   "id": "f1af82ff",
   "metadata": {},
   "outputs": [
    {
     "name": "stdout",
     "output_type": "stream",
     "text": [
      "701\n"
     ]
    }
   ],
   "source": [
    "# Neural Net parameters\n",
    "n_hidden = 100\n",
    "g = torch.Generator().manual_seed(2147483647)\n",
    "# Layer 1\n",
    "W1 = torch.randn(num_features,n_hidden,generator=g) * (5/3) / (num_features**0.5)  # first layer weights\n",
    "b1 = torch.randn(n_hidden, generator=g) * 0.1 # first layer biases # just for fun, einai perito logw tou BN\n",
    "# Layer 2\n",
    "W2 = torch.randn(n_hidden,1,generator=g) * 0.1 # output layer weights\n",
    "b2 = torch.randn(1,generator=g) * 0.1 # output layer biases\n",
    "# BatchNorm parameters\n",
    "bngain = torch.randn((1,n_hidden))*0.1 + 1 # Wraio Kolpo -> einai konta sto 1\n",
    "bnbias = torch.randn((1,n_hidden))*0.1\n",
    "\n",
    "# karpathy note:\n",
    "  # Note: I am initializating many of these parameters in non-standard ways\n",
    "  # because sometimes initializating with e.g. all zeros could mask an incorrect\n",
    "  # implementation of the backward pass\n",
    "\n",
    "# bnmean_running = torch.zeros((1,n_hidden))\n",
    "# bnstd_running = torch.ones((1,n_hidden))\n",
    "\n",
    "parameters = [W1, b1, W2, b2, bngain, bnbias] \n",
    "model_complexity = sum(p.nelement() for p in parameters) # i measure model complexity just as the number of parameters\n",
    "print(model_complexity)\n",
    "# so that i can run backbrop\n",
    "for p in parameters:\n",
    "  p.requires_grad = True"
   ]
  },
  {
   "cell_type": "code",
   "execution_count": 5,
   "id": "2070d944",
   "metadata": {},
   "outputs": [],
   "source": [
    "# utility function we will use later when comparing manual gradients to PyTorch gradients\n",
    "def cmp(s, dt, t):\n",
    "  ex = torch.all(dt == t.grad).item()\n",
    "  app = torch.allclose(dt, t.grad)\n",
    "  maxdiff = (dt - t.grad).abs().max().item()\n",
    "  print(f'{s:15s} | exact: {str(ex):5s} | approximate: {str(app):5s} | maxdiff: {maxdiff}')"
   ]
  },
  {
   "cell_type": "code",
   "execution_count": 6,
   "id": "7de24751",
   "metadata": {},
   "outputs": [],
   "source": [
    "epochs = 200000\n",
    "batch_size = 32\n",
    "n = batch_size # a shorter variable for convinience\n",
    "# construct a mini-batch\n",
    "ix = torch.randint(0,xtrain.shape[0],(batch_size,))\n",
    "xb, yb = xtrain[ix], ytrain[ix]\n",
    "lossi = []"
   ]
  },
  {
   "cell_type": "code",
   "execution_count": 7,
   "id": "1d33894e",
   "metadata": {},
   "outputs": [],
   "source": [
    "# logits_max = logits.view(-1).max()\n",
    "# norm_logits = logits - logits_max\n",
    "# logit = norm_logits[0]\n",
    "# sigmoid_den = (1 + (-norm_logits).exp())\n",
    "# prob = sigmoid_den ** -1\n",
    "# prob = prob.view(-1)\n",
    "# loss = - (yb * prob.log() + (1-yb) * (1-prob).log() ).mean()\n",
    "# print(loss)\n",
    "# loss.log10().item(), lossi[0]\n",
    "\n",
    "# # ---------------------------------------------\n",
    "# # Auta ta 2 einai to idio pragma - > mono gia ena stoixeio... gia dianisma prob den einai to idio!!!\n",
    "\n",
    "# # Prepei na iliopoiisw ti sigmoid prwta kai meta to ylog(y_hat) + (1-y)log(1-y_hat)\n",
    "# logprob = prob.log()\n",
    "# loss = - (yb * logprob).mean()\n",
    "# print(loss)\n",
    "# loss.log10().item(), lossi[0] "
   ]
  },
  {
   "cell_type": "markdown",
   "id": "a2145c53",
   "metadata": {},
   "source": [
    "### Important Note\n",
    "- ##### TO LOSS PREPEI NA GINEI: -(pred.log() * y + (1-y) * (1-pred).log()).mean()\n",
    "- ##### ENAI LATHOS TO yb * logprob"
   ]
  },
  {
   "cell_type": "code",
   "execution_count": 7,
   "id": "62c12a07",
   "metadata": {},
   "outputs": [
    {
     "data": {
      "text/plain": [
       "tensor(0.6729, grad_fn=<NegBackward0>)"
      ]
     },
     "execution_count": 7,
     "metadata": {},
     "output_type": "execute_result"
    }
   ],
   "source": [
    "# forward pass, \"chunkated\" into smaller steps that are possible to backward one at a time\n",
    "# Linear layer 1\n",
    "hprebn = xb @ W1 + b1\n",
    "\n",
    "# BatchNorm layer\n",
    "bnmeani = 1/n * hprebn.sum(dim=0,keepdims=True)\n",
    "bndiff = hprebn - bnmeani\n",
    "bndiff2 = bndiff**2\n",
    "bnvar = 1/(n-1) * bndiff2.sum(dim=0,keepdims=True) # note: Bessel's correction (dividing by n-1, not n)\n",
    "bnvar_inv = (bnvar + 1e-5)**-0.5\n",
    "bnraw = bndiff * bnvar_inv\n",
    "hpreact = bngain * bnraw + bnbias\n",
    "# Non-linearity\n",
    "h = torch.tanh(hpreact) # hidden layer\n",
    "# Linear layer 2\n",
    "logits = h @ W2 + b2 # output layer\n",
    "# binary cross entropy loss (same as F.binary_cross_entropy_with_logits(logits, Yb))\n",
    "sigmoid_den = 1 + (-logits).exp() # paronomastis tis sigmoid\n",
    "probs = sigmoid_den ** -1\n",
    "probs = probs.view(-1)\n",
    "term1 = probs.log() * yb\n",
    "term2 = (1-probs).log() * (1-yb)\n",
    "loss = -(term1 + term2).mean()\n",
    "\n",
    "# Pytorch backward pass\n",
    "for p in parameters:\n",
    "  p.grad = None\n",
    "  #logprobs, norm_logits\n",
    "for t in [term1,term2, probs, sigmoid_den, # afaik there is no cleaner way\n",
    "        logits, h, hpreact, bnraw, bnvar_inv, bnvar, \n",
    "        bndiff2, bndiff, hprebn, bnmeani]:\n",
    "  t.retain_grad()\n",
    "loss.backward()\n",
    "loss"
   ]
  },
  {
   "cell_type": "code",
   "execution_count": 8,
   "id": "c8a8c661",
   "metadata": {},
   "outputs": [
    {
     "name": "stdout",
     "output_type": "stream",
     "text": [
      "term1           | exact: True  | approximate: True  | maxdiff: 0.0\n",
      "term2           | exact: True  | approximate: True  | maxdiff: 0.0\n",
      "probs           | exact: True  | approximate: True  | maxdiff: 0.0\n",
      "sigmoid_den     | exact: True  | approximate: True  | maxdiff: 0.0\n",
      "logits          | exact: True  | approximate: True  | maxdiff: 0.0\n",
      "h               | exact: True  | approximate: True  | maxdiff: 0.0\n",
      "W2              | exact: True  | approximate: True  | maxdiff: 0.0\n",
      "b2              | exact: True  | approximate: True  | maxdiff: 0.0\n",
      "hpreact         | exact: True  | approximate: True  | maxdiff: 0.0\n",
      "bngain          | exact: True  | approximate: True  | maxdiff: 0.0\n",
      "bnbias          | exact: True  | approximate: True  | maxdiff: 0.0\n",
      "bnraw           | exact: True  | approximate: True  | maxdiff: 0.0\n",
      "bnvar_inv       | exact: True  | approximate: True  | maxdiff: 0.0\n",
      "bnvar           | exact: True  | approximate: True  | maxdiff: 0.0\n",
      "bndiff2         | exact: True  | approximate: True  | maxdiff: 0.0\n",
      "bndiff          | exact: True  | approximate: True  | maxdiff: 0.0\n",
      "bnmeani         | exact: True  | approximate: True  | maxdiff: 0.0\n",
      "W1              | exact: True  | approximate: True  | maxdiff: 0.0\n",
      "b1              | exact: True  | approximate: True  | maxdiff: 0.0\n"
     ]
    }
   ],
   "source": [
    "# Exercise 1: backprop through the whole thing manually, \n",
    "# backpropagating through exactly all of the variables \n",
    "# as they are defined in the forward pass above, one by one\n",
    "\n",
    "# gia loss = -(yb*logprobs).mean() #-> to dnorm_logits edw vgainei 0.46 enw prepei na einai konta sto 0\n",
    "\n",
    "# dlogprobs = torch.zeros_like(logprobs) + yb * (-1.0/n)\n",
    "# dprobs = (1.0 / probs) * dlogprobs.view(dlogprobs.shape[0],1)\n",
    "# dsigmoid_den = -sigmoid_den**-2 * dprobs\n",
    "\n",
    "# Gia loss = -(probs.log()*y + (1-y)*(1-probs).log()).mean()\n",
    "\n",
    "dterm1 = torch.zeros_like(term1) - (1.0/n)\n",
    "dterm2 = torch.zeros_like(term2) - (1.0/n)\n",
    "dprobs = (1.0/probs) * yb * dterm1\n",
    "dprobs += -(1.0/(1-probs)) * (1-yb) * dterm2\n",
    "dsigmoid_den = (-sigmoid_den**-2) * dprobs.view(-1,1) # undo to view(-1), to kanw (32,1) apo (32)\n",
    "dlogits = -((-logits).exp()) * dsigmoid_den\n",
    "dh = dlogits @ W2.T\n",
    "dW2 = h.T @ dlogits\n",
    "db2 = dlogits.sum(dim=0)\n",
    "dhpreact = (1.0 - h**2) * dh\n",
    "dbngain = (bnraw * dhpreact).sum(dim=0,keepdims=True)\n",
    "dbnbias = dhpreact.sum(dim=0,keepdims=True) \n",
    "dbnraw = bngain * dhpreact\n",
    "dbnvar_inv = (bndiff*dbnraw).sum(dim=0,keepdims=True)\n",
    "dbndiff = bnvar_inv * dbnraw\n",
    "dbnvar = -(0.5*(bnvar + 1e-5)**-1.5) * dbnvar_inv\n",
    "dbndiff2 = (1.0/(n-1)) * torch.ones_like(bndiff2) * dbnvar\n",
    "dbndiff += 2 * bndiff * dbndiff2\n",
    "dbnmeani = (-1.0 * dbndiff).sum(dim=0,keepdims=True) # or (-torch.ones_like(bndiff) * dbndiff).sum(dim=0) = (-dbndiff).sum(dim=0)\n",
    "dhprebn = dbndiff.clone()\n",
    "dhprebn += (1.0/n) * torch.ones_like(hprebn) * dbnmeani\n",
    "dW1 = xb.T @ dhprebn\n",
    "db1 = dhprebn.sum(dim=0)\n",
    "\n",
    "cmp('term1', dterm1, term1)\n",
    "cmp('term2', dterm2, term2)\n",
    "# cmp('logprobs', dlogprobs, logprobs)\n",
    "cmp('probs', dprobs, probs)\n",
    "cmp('sigmoid_den', dsigmoid_den, sigmoid_den)\n",
    "cmp('logits', dlogits, logits)\n",
    "cmp('h', dh, h)\n",
    "cmp('W2', dW2, W2)\n",
    "cmp('b2', db2, b2)\n",
    "cmp('hpreact', dhpreact, hpreact)\n",
    "cmp('bngain', dbngain, bngain)\n",
    "cmp('bnbias', dbnbias, bnbias)\n",
    "cmp('bnraw', dbnraw, bnraw)\n",
    "cmp('bnvar_inv', dbnvar_inv, bnvar_inv)\n",
    "cmp('bnvar', dbnvar, bnvar)\n",
    "cmp('bndiff2', dbndiff2, bndiff2)\n",
    "cmp('bndiff', dbndiff, bndiff)\n",
    "cmp('bnmeani', dbnmeani, bnmeani)\n",
    "cmp('W1', dW1, W1)\n",
    "cmp('b1', db1, b1)"
   ]
  },
  {
   "cell_type": "markdown",
   "id": "16ffd66b",
   "metadata": {},
   "source": [
    "### ---------------------------------------------------------------------------------------------------------------------------------------------------------------\n",
    "### The following cells contain Notes and intermiediate results used for calculating many of the above expressions"
   ]
  },
  {
   "cell_type": "code",
   "execution_count": 36,
   "id": "247b7bb1",
   "metadata": {},
   "outputs": [],
   "source": [
    "# dloprobs\n",
    "# loss = - 1/3 * (a + b + c) * yb = -1/3a*yb - 1/3b*yb - 1/3c*yb\n",
    "# dloss/da  = -1/3 * yb\n",
    "# sti geniki periptosi dloss/da = yb * 1/n"
   ]
  },
  {
   "cell_type": "code",
   "execution_count": null,
   "id": "d50bf07c",
   "metadata": {},
   "outputs": [],
   "source": [
    "# dprobs\n",
    "# y = log(x)\n",
    "# dy/dx = 1/x - > local derivative 1.0/ probs, to view einai gia na kanw undo to view(-1)!\n",
    "# 1.0/ probs * dlogprobs.view(dlogprobs.shape[0],1)"
   ]
  },
  {
   "cell_type": "code",
   "execution_count": null,
   "id": "9fb1d02a",
   "metadata": {},
   "outputs": [],
   "source": [
    "# dsigmoid_den\n",
    "# probs = 1/ sigmoid_den\n",
    "# dprobs/dsigmoid_den = -(1/sigmoid_den)**2 -> local derivative"
   ]
  },
  {
   "cell_type": "code",
   "execution_count": null,
   "id": "2cf4d5b8",
   "metadata": {},
   "outputs": [],
   "source": [
    "# dnorm_logits\n",
    "# y = 1 + e**(-x)\n",
    "# dy/dx = -e**(-x) -> local derivative"
   ]
  },
  {
   "cell_type": "code",
   "execution_count": null,
   "id": "d15ca0bf",
   "metadata": {},
   "outputs": [],
   "source": [
    "# dlogit_maxes\n",
    "# dnorm_logit/dlogit_maxes = -1.0 - > local derivative\n",
    "# logits.shape = (32,1) , logits_maxes.shape = (1,1)\n",
    "# kanonika tha itan -1.0 * dnorm_logits, alla epeidei dnorm_logits.shape = (32,1) \n",
    "# enw egw thelw dlogit_maxes.shape == logit_maxes.shape = (1,1)\n",
    "# to logit_maxes xrisimopoieitai polles fores gia oles tis grammes tou logits -> broadcasting\n",
    "# otan kati (enas komvos sto graph) xrisimopoieitai polles fores \n",
    "# sto backprop ta grad tha athroizontai (sum) gia kathe branch\n",
    "# gi auto pairnw sum kata grammes me keepdim wste na parw (1,1)\n",
    "# dnorm_logits = (-1.0 * dnorm_logits.sum(0,keepdim=True))\n",
    "\n",
    "# dlogit_maxes = 0.3611 EPREPE NA EINAI POLI KONTA STO 0.... kati kanw lathos?? \n",
    "# mipws den xreiazetai katholou to step me to normalization?"
   ]
  },
  {
   "cell_type": "code",
   "execution_count": null,
   "id": "49df0f99",
   "metadata": {},
   "outputs": [],
   "source": [
    "# dlogits\n",
    "\n",
    "# dlogits = 1 - > local derivative\n",
    "# alla epeidi logit_maxes = f(logits) exw kai deutero branch sto logits \n",
    "# kai auti den einai i teliki derivative gia to logits\n",
    "\n",
    "# c1 = a1 - b\n",
    "# c2 = a2 - b\n",
    "# c3 = a3 - b\n",
    "\n",
    "# to b einai to max kai ginetai broadcast kata grammmes gi auto kanw sum(dim=0) sto dlogit_maxes\n",
    "# c1 = a1 - b\n",
    "\n",
    "# gia to max to local derivative einai 1 gia to mono gia to stoixeio max\n",
    "# xrisimopoiw to logits.max(0).indices gia to index tou max kai ftiaxnw ena dianisma stili wste na pol/stei me to dlogit_maxes\n",
    "# F.one_hot.shape = (32,1) , dlogit_maxes.shape = (1,1) kai ginetai broadcasting swsta! -> to logit_maxes antigrafetai kata grammes..."
   ]
  },
  {
   "cell_type": "code",
   "execution_count": null,
   "id": "0acd6a8c",
   "metadata": {},
   "outputs": [],
   "source": [
    "# bndiff2 \n",
    "# a11 a12\n",
    "# a21 a22\n",
    "# ---->\n",
    "# b1 b2 , where\n",
    "# b1 = 1/(n-1) * (a11 + a21)\n",
    "# b2 = 1/(n-1) * (a12 + a22)\n",
    "# to local derivative einai 1/(n-1) gia kathe a\n",
    "# the derivative of b1 has to flow through the columns of a scaled me to 1/(n-1)"
   ]
  },
  {
   "cell_type": "code",
   "execution_count": null,
   "id": "aa8d6ac5",
   "metadata": {},
   "outputs": [],
   "source": [
    "# dhprebn\n",
    "# opws kai to dbndiff2 prepei na kanw flow to gradient kata grammes epi to scale"
   ]
  },
  {
   "cell_type": "markdown",
   "id": "f60ac56d",
   "metadata": {},
   "source": [
    "### End of cells containing Notes\n",
    "### ---------------------------------------------------------------------------------------------------------------------------------------------------------------"
   ]
  },
  {
   "cell_type": "code",
   "execution_count": 9,
   "id": "700af0f9",
   "metadata": {},
   "outputs": [
    {
     "name": "stdout",
     "output_type": "stream",
     "text": [
      "0.6728731989860535 diff: -5.960464477539063e-08\n"
     ]
    }
   ],
   "source": [
    "# Exercise 2: backprop through cross_entropy but all in one go\n",
    "# to complete this challenge look at the mathematical expression of the loss,\n",
    "# take the derivative, simplify the expression, and just write it out\n",
    "\n",
    "# forward pass\n",
    "\n",
    "# before:\n",
    "# sigmoid_den = 1 + (-logits).exp()\n",
    "# probs = sigmoid_den ** -1\n",
    "# probs = probs.view(-1)\n",
    "# term1 = probs.log() * yb\n",
    "# term2 = (1-probs).log()* (1-yb)\n",
    "# loss = -(term1 + term2).mean()\n",
    "\n",
    "# now:\n",
    "loss_fast = F.binary_cross_entropy_with_logits(logits.view(-1), yb)\n",
    "print(loss_fast.item(), 'diff:', (loss_fast - loss).item())"
   ]
  },
  {
   "cell_type": "code",
   "execution_count": 19,
   "id": "50f68ee1",
   "metadata": {},
   "outputs": [
    {
     "name": "stdout",
     "output_type": "stream",
     "text": [
      "logits          | exact: False | approximate: True  | maxdiff: 3.725290298461914e-09\n"
     ]
    }
   ],
   "source": [
    "# backward pass\n",
    "dlogits = F.sigmoid(logits).view(-1) # ta probs....\n",
    "dlogits = (dlogits - yb).view(-1,1)\n",
    "dlogits /= n\n",
    "cmp('logits', dlogits, logits) \n",
    "\n",
    "# d/dx(y*log(x) + (1-y)log(1-x)) = - (x - y) / (1-x)*x\n",
    "# dloss/dlogits = dloss/probs * dprobs/dlogits\n",
    "# dloss/dprobs = dprobs = (probs - yb) / (probs * (1-probs)), apo tin apo panw sxesi (WOlfram alpha)\n",
    "# dprobs/dlogits = sigmoid' = s*(1-s) = probs * (1-probs)\n",
    "# An ta pol/sw auta aplopoiointai ola kai menei mono (probs-yb) to scalarw /n epeidi eixa to .mean()\n",
    "# to view einai gia na ksanapaw se shape [32, 1] apo [32] (epd eixa probs.view(-1))"
   ]
  },
  {
   "cell_type": "code",
   "execution_count": 11,
   "id": "d81a78e1",
   "metadata": {},
   "outputs": [
    {
     "data": {
      "text/plain": [
       "(tensor([-0.4334, -0.4425,  0.2401, -0.5814, -0.0443, -0.2771,  0.0244, -0.2647,\n",
       "          0.1349,  0.1487,  0.0642, -0.0462,  0.3320,  0.5255,  0.5218,  0.1915,\n",
       "         -0.6503,  0.2971, -0.0056,  0.2296, -0.0087, -0.5033, -0.0928,  0.1861,\n",
       "         -0.5740, -0.7704, -0.8233, -0.9068, -0.4128,  0.4073, -0.8394,  0.0081],\n",
       "        grad_fn=<ViewBackward0>),\n",
       " tensor([-0.6067, -0.6089, -0.4403,  0.3586,  0.4889, -0.5688,  0.5061, -0.5658,\n",
       "          0.5337,  0.5371, -0.4840,  0.4884,  0.5823,  0.6284, -0.3724, -0.4523,\n",
       "          0.3429,  0.5737, -0.5014,  0.5572,  0.4978,  0.3768,  0.4768,  0.5464,\n",
       "          0.3603,  0.3164, -0.6949, -0.7124,  0.3982,  0.6004, -0.6983,  0.5020],\n",
       "        grad_fn=<MulBackward0>),\n",
       " tensor([1., 1., 1., 0., 0., 1., 0., 1., 0., 0., 1., 0., 0., 0., 1., 1., 0., 0.,\n",
       "         1., 0., 0., 0., 0., 0., 0., 0., 1., 1., 0., 0., 1., 0.]))"
      ]
     },
     "execution_count": 11,
     "metadata": {},
     "output_type": "execute_result"
    }
   ],
   "source": [
    "logits.view(-1), dlogits.view(-1)*n, yb"
   ]
  },
  {
   "cell_type": "code",
   "execution_count": 12,
   "id": "57314e87",
   "metadata": {},
   "outputs": [
    {
     "data": {
      "text/plain": [
       "<matplotlib.image.AxesImage at 0x7fa09ac57820>"
      ]
     },
     "execution_count": 12,
     "metadata": {},
     "output_type": "execute_result"
    },
    {
     "data": {
      "image/png": "[encoded data removed]",
      "text/plain": [
       "<Figure size 800x1000 with 1 Axes>"
      ]
     },
     "metadata": {},
     "output_type": "display_data"
    }
   ],
   "source": [
    "plt.figure(figsize=(8,10))\n",
    "plt.imshow(dlogits.detach(), cmap='gray')"
   ]
  },
  {
   "cell_type": "code",
   "execution_count": 13,
   "id": "94e02f56",
   "metadata": {},
   "outputs": [
    {
     "name": "stdout",
     "output_type": "stream",
     "text": [
      "max diff: tensor(4.7684e-07, grad_fn=<MaxBackward1>)\n"
     ]
    }
   ],
   "source": [
    "# Exercise 3: backprop through batchnorm but all in one go\n",
    "# to complete this challenge look at the mathematical expression of the output of batchnorm,\n",
    "# take the derivative w.r.t. its input, simplify the expression, and just write it out\n",
    "# BatchNorm paper: https://arxiv.org/abs/1502.03167\n",
    "\n",
    "# forward pass\n",
    "\n",
    "# before:\n",
    "# bnmeani = 1/n*hprebn.sum(dim=0, keepdim=True)\n",
    "# bndiff = hprebn - bnmeani\n",
    "# bndiff2 = bndiff**2\n",
    "# bnvar = 1/(n-1)*(bndiff2).sum(dim=0, keepdim=True) # note: Bessel's correction (dividing by n-1, not n)\n",
    "# bnvar_inv = (bnvar + 1e-5)**-0.5\n",
    "# bnraw = bndiff * bnvar_inv\n",
    "# hpreact = bngain * bnraw + bnbias\n",
    "\n",
    "# now:\n",
    "hpreact_fast = bngain * (hprebn - hprebn.mean(0, keepdim=True)) / torch.sqrt(hprebn.var(0, keepdim=True, unbiased=True) + 1e-5) + bnbias\n",
    "print('max diff:', (hpreact_fast - hpreact).abs().max())"
   ]
  },
  {
   "cell_type": "code",
   "execution_count": 20,
   "id": "a05e8c0f",
   "metadata": {},
   "outputs": [
    {
     "name": "stdout",
     "output_type": "stream",
     "text": [
      "hprebn          | exact: False | approximate: True  | maxdiff: 4.656612873077393e-10\n"
     ]
    }
   ],
   "source": [
    "# backward pass\n",
    "\n",
    "# before we had:\n",
    "# dbnraw = bngain * dhpreact\n",
    "# dbnvar_inv = (bndiff*dbnraw).sum(dim=0,keepdims=True)\n",
    "# dbndiff = bnvar_inv * dbnraw\n",
    "# dbnvar = -(0.5*(bnvar + 1e-5)**-1.5) * dbnvar_inv\n",
    "# dbndiff2 = (1.0/(n-1)) * torch.ones_like(bndiff2) * dbnvar\n",
    "# dbndiff += 2 * bndiff * dbndiff2\n",
    "# dbnmeani = (-1.0 * dbndiff).sum(dim=0,keepdims=True) # or (-torch.ones_like(bndiff) * dbndiff).sum(dim=0) = (-dbndiff).sum(dim=0)\n",
    "# dhprebn = dbndiff.clone()\n",
    "\n",
    "# calculate dhprebn given dhpreact (i.e. backprop through the batchnorm)\n",
    "# (you'll also need to use some of the variables from the forward pass up above)\n",
    "\n",
    "# -----------------\n",
    "# YOUR CODE HERE :)\n",
    "dhprebn = bngain * bnvar_inv/n * (n*dhpreact - dhpreact.sum(dim=0) - n/(n-1)*bnraw*(dhpreact*bnraw).sum(dim=0))\n",
    "# -----------------\n",
    "\n",
    "cmp('hprebn', dhprebn, hprebn) # I can only get approximate to be true, my maxdiff is 9e-10"
   ]
  },
  {
   "cell_type": "code",
   "execution_count": 15,
   "id": "3045890f",
   "metadata": {},
   "outputs": [
    {
     "data": {
      "text/plain": [
       "(torch.Size([32, 100]),\n",
       " torch.Size([1, 100]),\n",
       " torch.Size([1, 100]),\n",
       " torch.Size([32, 100]),\n",
       " torch.Size([100]))"
      ]
     },
     "execution_count": 15,
     "metadata": {},
     "output_type": "execute_result"
    }
   ],
   "source": [
    "dhprebn.shape, bngain.shape, bnvar_inv.shape, dbnraw.shape, dbnraw.sum(0).shape"
   ]
  },
  {
   "cell_type": "code",
   "execution_count": 23,
   "id": "8d9345dd",
   "metadata": {},
   "outputs": [
    {
     "name": "stdout",
     "output_type": "stream",
     "text": [
      "      0/ 200000: 0.6906\n",
      "  10000/ 200000: 0.6768\n",
      "  20000/ 200000: 0.6921\n",
      "  30000/ 200000: 0.6807\n",
      "  40000/ 200000: 0.7058\n",
      "  50000/ 200000: 0.5915\n",
      "  60000/ 200000: 0.7081\n",
      "  70000/ 200000: 0.6851\n",
      "  80000/ 200000: 0.6553\n",
      "  90000/ 200000: 0.6856\n",
      " 100000/ 200000: 0.6559\n",
      " 110000/ 200000: 0.5940\n",
      " 120000/ 200000: 0.7083\n",
      " 130000/ 200000: 0.6186\n",
      " 140000/ 200000: 0.6467\n",
      " 150000/ 200000: 0.6576\n",
      " 160000/ 200000: 0.6764\n",
      " 170000/ 200000: 0.6135\n",
      " 180000/ 200000: 0.7151\n",
      " 190000/ 200000: 0.6758\n"
     ]
    }
   ],
   "source": [
    "# Exercise 4: putting it all together!\n",
    "# Train the MLP neural net with your own backward pass\n",
    "\n",
    "# Neural Net parameters\n",
    "n_hidden = 100\n",
    "g = torch.Generator().manual_seed(2147483647)\n",
    "# Layer 1\n",
    "W1 = torch.randn(num_features,n_hidden,generator=g) * (5/3) / (num_features**0.5)  # first layer weights\n",
    "b1 = torch.randn(n_hidden, generator=g) * 0.1 # first layer biases # just for fun, einai perito logw tou BN\n",
    "# Layer 2\n",
    "W2 = torch.randn(n_hidden,1,generator=g) * 0.1 # output layer weights\n",
    "b2 = torch.randn(1,generator=g) * 0.1 # output layer biases\n",
    "# BatchNorm parameters\n",
    "bngain = torch.randn((1,n_hidden))*0.1 + 1 # Wraio Kolpo -> einai konta sto 1\n",
    "bnbias = torch.randn((1,n_hidden))*0.1\n",
    "\n",
    "parameters = [W1, b1, W2, b2, bngain, bnbias] \n",
    "model_complexity = sum(p.nelement() for p in parameters) # i measure model complexity just as the number of parameters\n",
    "# so that i can run backbrop\n",
    "for p in parameters:\n",
    "  p.requires_grad = True\n",
    "  \n",
    "epochs = 200000\n",
    "batch_size = 32\n",
    "n = batch_size # a shorter variable for convinience\n",
    "lossi = []\n",
    "\n",
    "# use this context manager for efficiency once your backward pass is written (TODO)\n",
    "with torch.no_grad():\n",
    "\n",
    "  for i in range(epochs):\n",
    "    ix = torch.randint(0,xtrain.shape[0],(batch_size,))\n",
    "    xb, yb = xtrain[ix], ytrain[ix]\n",
    "\n",
    "    # forward pass\n",
    "    # Linear layer\n",
    "    hprebn = (xb @ W1) + b1\n",
    "    # BatchNorm layer\n",
    "    # ---------------------------------------------------------------\n",
    "    bnmean = hprebn.mean(0, keepdim=True)\n",
    "    bnvar = hprebn.var(0, keepdim=True, unbiased=True)\n",
    "    bnvar_inv = (bnvar + 1e-5)**-0.5\n",
    "    bnraw = (hprebn - bnmean) * bnvar_inv\n",
    "    hpreact = bngain * bnraw + bnbias\n",
    "    # ---------------------------------------------------------------\n",
    "    # Non-Linearity\n",
    "    h = torch.tanh(hpreact)\n",
    "  #   h.retain_grad() # gia na borw na kanw h.grad\n",
    "    logits = (h @ W2) + b2\n",
    "    loss = F.binary_cross_entropy_with_logits(logits.view(-1),yb) # mallon pio numericaly stable?\n",
    "\n",
    "    # backward pass \n",
    "    for p in parameters:\n",
    "      p.grad = None\n",
    "    #loss.backward() # use this for correctness comparisons, delete it later!\n",
    "\n",
    "    # manual backprop! #swole_doge_meme\n",
    "    # -----------------\n",
    "    dlogits = F.sigmoid(logits).view(-1)\n",
    "    dlogits = (dlogits - yb).view(-1,1)\n",
    "    dlogits /= n\n",
    "    # 2nd layer backprop\n",
    "    dh = dlogits @ W2.T\n",
    "    dW2 = h.T @ dlogits\n",
    "    db2 = dlogits.sum(dim=0)\n",
    "    # tanh\n",
    "    dhpreact = (1.0 - h**2) * dh\n",
    "    # batchnorm backprop\n",
    "    dbngain = (bnraw * dhpreact).sum(dim=0,keepdims=True)\n",
    "    dbnbias = dhpreact.sum(dim=0,keepdims=True)\n",
    "    dhprebn = bngain * bnvar_inv/n * (n*dhpreact - dhpreact.sum(dim=0) - n/(n-1)*bnraw*(dhpreact*bnraw).sum(dim=0))\n",
    "    # 1st layer\n",
    "    dW1 = xb.T @ dhprebn\n",
    "    db1 = dhprebn.sum(dim=0)\n",
    "\n",
    "    grads = [dW1, db1, dW2, db2, dbngain, dbnbias]\n",
    "    # -----------------\n",
    "\n",
    "    # update\n",
    "    lr = 0.09 # decay the lr?\n",
    "    for p, grad in zip(parameters, grads):\n",
    "      #p.data += -lr * p.grad # old way of cheems doge (using PyTorch grad from .backward())\n",
    "      p.data += -lr * grad # new way of swole doge TODO: enable\n",
    "\n",
    "    #track stats\n",
    "    if i % 10000 == 0: # print every once in a while\n",
    "      print(f'{i:7d}/{epochs:7d}: {loss.item():.4f}')\n",
    "    lossi.append(loss.log10().item())\n",
    "\n",
    "  #   if i>=100:\n",
    "  #     break"
   ]
  },
  {
   "cell_type": "code",
   "execution_count": 22,
   "id": "7610a0b3",
   "metadata": {},
   "outputs": [
    {
     "name": "stdout",
     "output_type": "stream",
     "text": [
      "(3, 100)        | exact: False | approximate: True  | maxdiff: 3.725290298461914e-09\n",
      "(100,)          | exact: False | approximate: True  | maxdiff: 2.9103830456733704e-09\n",
      "(100, 1)        | exact: True  | approximate: True  | maxdiff: 0.0\n",
      "(1,)            | exact: True  | approximate: True  | maxdiff: 0.0\n",
      "(1, 100)        | exact: True  | approximate: True  | maxdiff: 0.0\n",
      "(1, 100)        | exact: True  | approximate: True  | maxdiff: 0.0\n"
     ]
    }
   ],
   "source": [
    "# useful for checking your gradients\n",
    "for p,g in zip(parameters, grads):\n",
    "  cmp(str(tuple(p.shape)), g, p)"
   ]
  },
  {
   "cell_type": "code",
   "execution_count": 24,
   "id": "636a1355",
   "metadata": {},
   "outputs": [],
   "source": [
    "# calibrate the batch norm at the end of training\n",
    "\n",
    "with torch.no_grad():\n",
    "  # pass the training set through\n",
    "  hpreact = xtrain @ W1 + b1\n",
    "  # measure the mean/std over the entire training set\n",
    "  bnmean = hpreact.mean(0, keepdim=True)\n",
    "  bnvar = hpreact.var(0, keepdim=True, unbiased=True)"
   ]
  },
  {
   "cell_type": "code",
   "execution_count": 25,
   "id": "b1539fa0",
   "metadata": {},
   "outputs": [
    {
     "name": "stdout",
     "output_type": "stream",
     "text": [
      "train 0.6148810982704163\n",
      "val 0.7544530630111694\n"
     ]
    }
   ],
   "source": [
    "# evaluate train and val loss\n",
    "\n",
    "@torch.no_grad() # this decorator disables gradient tracking\n",
    "def split_loss(split):\n",
    "  x,y = {\n",
    "    'train': (xtrain, ytrain),\n",
    "    'val': (xval,yval)\n",
    "  }[split]\n",
    "  hpreact = x @ W1 + b1\n",
    "  hpreact = bngain * (hpreact - bnmean) * (bnvar + 1e-5)**-0.5 + bnbias\n",
    "  h = torch.tanh(hpreact) # (N, n_hidden)\n",
    "  logits = h @ W2 + b2 # (N, 1)\n",
    "  loss = F.binary_cross_entropy_with_logits(logits.view(-1), y)\n",
    "  print(split, loss.item())\n",
    "\n",
    "split_loss('train')\n",
    "split_loss('val')"
   ]
  },
  {
   "cell_type": "markdown",
   "id": "8b887e99",
   "metadata": {},
   "source": [
    "### Results:\n",
    "\n",
    "- ###### Me loss.backward:\n",
    "    - train: 0.6025290489196777\n",
    "    - val: 0.7441983819007874\n",
    "- ###### Manual backprop:\n",
    "    - train: 0.6148810982704163\n",
    "    - val: 0.7544530630111694\n",
    "    \n",
    "###### NOT BAD!"
   ]
  },
  {
   "cell_type": "code",
   "execution_count": 13,
   "id": "4f088c12",
   "metadata": {},
   "outputs": [],
   "source": [
    "# me loss.backward:\n",
    "# train 0.6025290489196777\n",
    "# val 0.7441983819007874\n",
    "\n",
    "# manual backprop:\n",
    "# train 0.6148810982704163\n",
    "# val 0.7544530630111694\n",
    "\n",
    "# NOT BAD!!!"
   ]
  },
  {
   "cell_type": "code",
   "execution_count": null,
   "id": "629cf214",
   "metadata": {},
   "outputs": [],
   "source": []
  }
 ],
 "metadata": {
  "kernelspec": {
   "display_name": "Python 3 (ipykernel)",
   "language": "python",
   "name": "python3"
  },
  "language_info": {
   "codemirror_mode": {
    "name": "ipython",
    "version": 3
   },
   "file_extension": ".py",
   "mimetype": "text/x-python",
   "name": "python",
   "nbconvert_exporter": "python",
   "pygments_lexer": "ipython3",
   "version": "3.10.9"
  }
 },
 "nbformat": 4,
 "nbformat_minor": 5
}
